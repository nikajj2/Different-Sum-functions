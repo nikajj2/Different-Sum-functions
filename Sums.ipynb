{
  "nbformat": 4,
  "nbformat_minor": 0,
  "metadata": {
    "colab": {
      "provenance": []
    },
    "kernelspec": {
      "name": "python3",
      "display_name": "Python 3"
    },
    "language_info": {
      "name": "python"
    }
  },
  "cells": [
    {
      "cell_type": "code",
      "execution_count": 2,
      "metadata": {
        "id": "MoA3KH0jWiL6"
      },
      "outputs": [],
      "source": [
        "# import libraries\n",
        "\n",
        "import numpy as np\n",
        "import random\n",
        "import math\n",
        "import time\n"
      ]
    },
    {
      "cell_type": "code",
      "source": [
        "#When this functionin is called will print the solution based on the argument\n",
        "#exp (exponent)\n",
        "def Solution(exp):\n",
        "  x=generate(exp)\n",
        "  mathSumResult, sum=MathSum(x)\n",
        "  numpySumResult=NumpySum(x, sum)\n",
        "  naiveSumResult=NaiveSum(x,sum)\n",
        "  compensatedSumResult=CompensatedSum(x,sum)\n",
        "  result= Table(numpySumResult,mathSumResult,naiveSumResult,compensatedSumResult)\n",
        "  print(\"RESULTS FOR n=10^\",exp,\" \\n\")\n",
        "  ShowResults(result)\n",
        ""
      ],
      "metadata": {
        "id": "Aw7eFqAjXT-s"
      },
      "execution_count": 3,
      "outputs": []
    },
    {
      "cell_type": "code",
      "source": [
        "#returns  generated array(list) of random numbers based on the exponent\n",
        "def generate(exp):\n",
        "  nsums = 10**exp\n",
        "  x = np.zeros(nsums)\n",
        "  id = 12345678       # use your student id number here.\n",
        "  random.seed(id)\n",
        "  id10 = 1.234*id/10**10\n",
        "  for i in range(nsums):\n",
        "    x[i] = random.uniform(0.,5.) + id10\n",
        "  return x"
      ],
      "metadata": {
        "id": "oJJ2wcFNiApx"
      },
      "execution_count": 4,
      "outputs": []
    },
    {
      "cell_type": "code",
      "source": [
        "#returns math.fsum and its execution time, absolute and relative error\n",
        "def MathSum(x):\n",
        "  MathStartTime = time.time()\n",
        "  mathSum=math.fsum(x)\n",
        "  MathEndTime=time.time()\n",
        "  mathTime=MathEndTime-MathStartTime\n",
        "  mathAbsoluteError=mathSum-mathSum\n",
        "  mathRelativeError=mathAbsoluteError/mathSum\n",
        "  return ['math.fsum', mathTime, mathAbsoluteError,mathRelativeError ], mathSum"
      ],
      "metadata": {
        "id": "B_JZviDIaQkH"
      },
      "execution_count": 5,
      "outputs": []
    },
    {
      "cell_type": "code",
      "source": [
        "#returns  generated array(list) of random numbers based on the exponent\n",
        "def generate(exp):\n",
        "  nsums = 10**exp\n",
        "  x = np.zeros(nsums)\n",
        "  id =12345678      # use your student id number here.\n",
        "  random.seed(id)\n",
        "  id10 = 1.234*id/10**10\n",
        "  for i in range(nsums):\n",
        "    x[i] = random.uniform(0.,5.) + id10\n",
        "  return x"
      ],
      "metadata": {
        "id": "_FluCklQWxWS"
      },
      "execution_count": 6,
      "outputs": []
    },
    {
      "cell_type": "code",
      "source": [
        "#returns NumpySum execution time, absolute and relative error\n",
        "def NumpySum(x, sum):\n",
        "  NumpyStartTime = time.time()\n",
        "  NumpySum=np.sum(x)\n",
        "  NumpyEndTime=time.time()\n",
        "  numpyTime=NumpyEndTime-NumpyStartTime\n",
        "  numpyAbsoluteError=NumpySum-sum\n",
        "  numpyRelativeError=numpyAbsoluteError/NumpySum\n",
        "  return ['numpy.sum', numpyTime,numpyAbsoluteError,numpyRelativeError]\n"
      ],
      "metadata": {
        "id": "U8v_uz_SYuqD"
      },
      "execution_count": 7,
      "outputs": []
    },
    {
      "cell_type": "code",
      "source": [
        "#returns naive sum execution time, absolute and relative error\n",
        "def NaiveSum(x,sum):\n",
        "  NaiveSum=0\n",
        "  NaiveStartTime = time.time()\n",
        "  for i in x:\n",
        "   NaiveSum=NaiveSum+i\n",
        "  NaiveEndTime = time.time()\n",
        "  naiveSumTime=NaiveEndTime-NaiveStartTime\n",
        "  naiveAbsoluteError=NaiveSum-sum\n",
        "  naiveRelativeError=naiveAbsoluteError/NaiveSum\n",
        "  return ['naive sum',naiveSumTime,naiveAbsoluteError,naiveRelativeError]"
      ],
      "metadata": {
        "id": "3Um-LyCNZT2L"
      },
      "execution_count": 8,
      "outputs": []
    },
    {
      "cell_type": "code",
      "source": [
        "#returns compensated sum execution time, absolute and relative error\n",
        "def CompensatedSum(x,sum):\n",
        "  e=0\n",
        "  s=0\n",
        "  CompensatedStartTime= time.time()\n",
        "  for i in x:\n",
        "    temp=s\n",
        "    y=i+e\n",
        "    s=temp+y\n",
        "    e=(temp-s)+y\n",
        "  s=s+e\n",
        "  compensatedEndTime = time.time()\n",
        "  compensatedSumTime=compensatedEndTime-CompensatedStartTime\n",
        "  compensatedAbsoluteError=s-sum\n",
        "  compensatedRelativeError=compensatedAbsoluteError/s\n",
        "  return ['compensated sum', compensatedSumTime,compensatedAbsoluteError, compensatedRelativeError]\n"
      ],
      "metadata": {
        "id": "3JAqlhaLZUB3"
      },
      "execution_count": 9,
      "outputs": []
    },
    {
      "cell_type": "code",
      "source": [
        "#create a table for the results\n",
        "def Table(numpySumResult,mathSumResult,naiveSumResult,compensatedSumResult):\n",
        "  list1=['Methods of sumation','Time','Absolute error', 'Relative error']\n",
        "  return [list1,numpySumResult,mathSumResult,naiveSumResult,compensatedSumResult]"
      ],
      "metadata": {
        "id": "X-4tRgK6ZUMk"
      },
      "execution_count": 10,
      "outputs": []
    },
    {
      "cell_type": "code",
      "source": [
        "#Function used to print the results\n",
        "def ShowResults(table):\n",
        "  str1=\"\";\n",
        "  for i in table:\n",
        "   str1=str1+'|'\n",
        "   for j in i:\n",
        "    str1=str1+(format(str(j), '25s'))+'|'\n",
        "   str1=str1+'\\n|'\n",
        "   for a in range(103):\n",
        "    str1=str1+'-'\n",
        "   str1=str1+'| \\n'\n",
        "  print(str1)\n",
        ""
      ],
      "metadata": {
        "id": "4u1kWzQMSC3C"
      },
      "execution_count": 11,
      "outputs": []
    },
    {
      "cell_type": "code",
      "source": [
        "#Main\n",
        "Solution(7)\n",
        "Solution(6)\n",
        "Solution(5)"
      ],
      "metadata": {
        "colab": {
          "base_uri": "https://localhost:8080/"
        },
        "id": "OAklz94yfEVU",
        "outputId": "dbcca56b-470a-4f43-e166-7de0f173f547"
      },
      "execution_count": 12,
      "outputs": [
        {
          "output_type": "stream",
          "name": "stdout",
          "text": [
            "RESULTS FOR n=10^ 7  \n",
            "\n",
            "|Methods of sumation      |Time                     |Absolute error           |Relative error           |\n",
            "|-------------------------------------------------------------------------------------------------------| \n",
            "|numpy.sum                |0.011822700500488281     |1.1175870895385742e-08   |4.464840966757341e-16    |\n",
            "|-------------------------------------------------------------------------------------------------------| \n",
            "|math.fsum                |0.8700132369995117       |0.0                      |0.0                      |\n",
            "|-------------------------------------------------------------------------------------------------------| \n",
            "|naive sum                |1.2627472877502441       |-5.736947059631348e-07   |-2.2919516962688217e-14  |\n",
            "|-------------------------------------------------------------------------------------------------------| \n",
            "|compensated sum          |3.5245096683502197       |0.0                      |0.0                      |\n",
            "|-------------------------------------------------------------------------------------------------------| \n",
            "\n",
            "RESULTS FOR n=10^ 6  \n",
            "\n",
            "|Methods of sumation      |Time                     |Absolute error           |Relative error           |\n",
            "|-------------------------------------------------------------------------------------------------------| \n",
            "|numpy.sum                |0.0014190673828125       |-4.656612873077393e-10   |-1.8589660720006724e-16  |\n",
            "|-------------------------------------------------------------------------------------------------------| \n",
            "|math.fsum                |0.1799149513244629       |0.0                      |0.0                      |\n",
            "|-------------------------------------------------------------------------------------------------------| \n",
            "|naive sum                |0.25234484672546387      |-9.173527359962463e-08   |-3.662163161841458e-14   |\n",
            "|-------------------------------------------------------------------------------------------------------| \n",
            "|compensated sum          |0.6519031524658203       |0.0                      |0.0                      |\n",
            "|-------------------------------------------------------------------------------------------------------| \n",
            "\n",
            "RESULTS FOR n=10^ 5  \n",
            "\n",
            "|Methods of sumation      |Time                     |Absolute error           |Relative error           |\n",
            "|-------------------------------------------------------------------------------------------------------| \n",
            "|numpy.sum                |0.0001933574676513672    |0.0                      |0.0                      |\n",
            "|-------------------------------------------------------------------------------------------------------| \n",
            "|math.fsum                |0.017303943634033203     |0.0                      |0.0                      |\n",
            "|-------------------------------------------------------------------------------------------------------| \n",
            "|naive sum                |0.024960994720458984     |-1.6589183360338211e-09  |-6.61526971123814e-15    |\n",
            "|-------------------------------------------------------------------------------------------------------| \n",
            "|compensated sum          |0.059053897857666016     |0.0                      |0.0                      |\n",
            "|-------------------------------------------------------------------------------------------------------| \n",
            "\n"
          ]
        }
      ]
    },
    {
      "cell_type": "code",
      "source": [
        "#Comenting results:\n",
        "#In all cases numpy.sum is the fasted method on calculating the sum.\n",
        "#The second fasted method is math.fsum, then naive sum and the slowest is compensated sum\n",
        "#When exponential is 7, there is a significant difference between numpy.sum and\n",
        "#other functions.\n",
        "#The most accurate sums (according to assumption) are math.fsum and compensated sum.\n",
        "#Naive sum seems to be the least accurate.\n",
        "#When exponent is 5, numpy.sum has error=0.\n"
      ],
      "metadata": {
        "id": "_7b8-cojmLID"
      },
      "execution_count": null,
      "outputs": []
    },
    {
      "cell_type": "code",
      "source": [],
      "metadata": {
        "id": "PIEGD3X9nAqw"
      },
      "execution_count": null,
      "outputs": []
    }
  ]
}
